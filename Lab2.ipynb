{
 "cells": [
  {
   "cell_type": "code",
   "execution_count": 62,
   "metadata": {},
   "outputs": [],
   "source": [
    "import pyspark\n",
    "import os\n",
    "import sys\n",
    "from pyspark import SparkContext\n",
    "from pyspark import SparkConf\n",
    "os.environ['PYSPARK_PYTHON'] = sys.executable\n",
    "os.environ['PYSPARK_DRIVER_PYTHON'] = sys.executable"
   ]
  },
  {
   "cell_type": "code",
   "execution_count": 63,
   "metadata": {},
   "outputs": [
    {
     "name": "stderr",
     "output_type": "stream",
     "text": [
      "/home/lplab/anaconda3/lib/python3.7/site-packages/pyspark/context.py:317: FutureWarning: Python 3.7 support is deprecated in Spark 3.4.\n",
      "  warnings.warn(\"Python 3.7 support is deprecated in Spark 3.4.\", FutureWarning)\n"
     ]
    },
    {
     "name": "stdout",
     "output_type": "stream",
     "text": [
      "5\n",
      "+---+-----+\n",
      "| id| name|\n",
      "+---+-----+\n",
      "|  1|Alice|\n",
      "|  2|  Bob|\n",
      "|  3|Carol|\n",
      "|  4| Dave|\n",
      "|  5|  Eve|\n",
      "+---+-----+\n",
      "\n",
      "+---+-----+---+\n",
      "| id| name|age|\n",
      "+---+-----+---+\n",
      "|  1|Alice| 10|\n",
      "+---+-----+---+\n",
      "\n"
     ]
    }
   ],
   "source": [
    "#Q1, Q2 and Q4\n",
    "\n",
    "from pyspark.sql import SparkSession\n",
    "# Create a SparkSession\n",
    "spark = SparkSession.builder.getOrCreate()\n",
    "# Create a DataFrame\n",
    "df = spark.createDataFrame([\n",
    "(1, \"Alice\"),\n",
    "(2, \"Bob\"),\n",
    "(3, \"Carol\"),\n",
    "(4, \"Dave\"),\n",
    "(5, \"Eve\")\n",
    "], [\"id\", \"name\"])\n",
    "print(df.count())\n",
    "df.show()\n",
    "#df.write.format(\"csv\").mode('overwrite').save('output')\n",
    "# Filter the DataFrame to only include rows where the name starts with \"A\"\n",
    "df = df.filter(df[\"name\"].startswith(\"A\"))\n",
    "# Add a new column to the DataFrame called \"age\"\n",
    "df = df.withColumn(\"age\", df[\"id\"] * 10)\n",
    "\n",
    "# Print the DataFrame\n",
    "df.show()"
   ]
  },
  {
   "cell_type": "code",
   "execution_count": 64,
   "metadata": {},
   "outputs": [
    {
     "name": "stdout",
     "output_type": "stream",
     "text": [
      "root\n",
      " |-- integers: long (nullable = true)\n",
      " |-- floats: double (nullable = true)\n",
      " |-- integer_arrays: array (nullable = true)\n",
      " |    |-- element: long (containsNull = true)\n",
      "\n",
      "+-------------+\n",
      "|sum(integers)|\n",
      "+-------------+\n",
      "|            6|\n",
      "+-------------+\n",
      "\n",
      "+-------------+\n",
      "|avg(integers)|\n",
      "+-------------+\n",
      "|          2.0|\n",
      "+-------------+\n",
      "\n",
      "+-------------+\n",
      "|avg(integers)|\n",
      "+-------------+\n",
      "|          2.0|\n",
      "+-------------+\n",
      "\n",
      "+-------------+\n",
      "|min(integers)|\n",
      "+-------------+\n",
      "|            1|\n",
      "+-------------+\n",
      "\n",
      "+-------------+\n",
      "|max(integers)|\n",
      "+-------------+\n",
      "|            3|\n",
      "+-------------+\n",
      "\n",
      "+--------+------+--------------+\n",
      "|integers|floats|integer_arrays|\n",
      "+--------+------+--------------+\n",
      "|       1|  -1.0|        [1, 2]|\n",
      "|       2|   0.5|     [3, 4, 5]|\n",
      "|       3|   2.7|  [6, 7, 8, 9]|\n",
      "+--------+------+--------------+\n",
      "\n"
     ]
    }
   ],
   "source": [
    "#Q3\n",
    "\n",
    "import pandas as pd\n",
    "from pyspark.sql import functions as F\n",
    "df_pd = pd.DataFrame(\n",
    "data={'integers': [1, 2, 3],\n",
    "'floats': [-1.0, 0.5, 2.7],\n",
    "'integer_arrays': [[1, 2], [3, 4, 5], [6, 7, 8, 9]]}\n",
    ")\n",
    "df = spark.createDataFrame(df_pd)\n",
    "df.printSchema() # It will print the Schema\n",
    "from pyspark.sql.functions import col, avg, sum, min, max\n",
    "\n",
    "df.agg(sum(\"integers\")).show()\n",
    "df.agg(avg(\"integers\")).show()\n",
    "df.select(avg(col(\"integers\"))).show()\n",
    "df.agg(min(\"integers\")).show()\n",
    "df.agg(max(\"integers\")).show()\n",
    "\n",
    "df.show()"
   ]
  },
  {
   "cell_type": "code",
   "execution_count": 65,
   "metadata": {},
   "outputs": [
    {
     "name": "stdout",
     "output_type": "stream",
     "text": [
      "name: 1\n",
      "is: 1\n",
      "My: 1\n",
      "Prahlad: 1\n",
      "and: 1\n",
      "Iam: 1\n",
      "the: 1\n",
      "Greatest: 1\n"
     ]
    }
   ],
   "source": [
    "#Q5\n",
    "\n",
    "# Create a SparkSession\n",
    "sc = SparkContext.getOrCreate(SparkConf().setMaster(\"local[*]\"))\n",
    "# Load the text file\n",
    "lines = sc.textFile(\"sentence.txt\")\n",
    "counts = lines.flatMap(lambda line: line.split(\" \")).map(lambda word: (word, 1)).reduceByKey(lambda x, y: x + y)\n",
    "output = counts.collect()\n",
    "for (word, count) in output:\n",
    "    print(\"%s: %i\" % (word, count))\n",
    "# Split the lines into words"
   ]
  },
  {
   "cell_type": "code",
   "execution_count": 66,
   "metadata": {},
   "outputs": [
    {
     "name": "stdout",
     "output_type": "stream",
     "text": [
      "+--------+-----+\n",
      "|    word|count|\n",
      "+--------+-----+\n",
      "|    name|    1|\n",
      "| Prahlad|    1|\n",
      "|      is|    1|\n",
      "|     the|    1|\n",
      "|     and|    1|\n",
      "|Greatest|    1|\n",
      "|     Iam|    1|\n",
      "|      My|    1|\n",
      "+--------+-----+\n",
      "\n"
     ]
    }
   ],
   "source": [
    "from pyspark.sql import SparkSession\n",
    "from pyspark.sql import functions as f\n",
    "# Create a SparkSession\n",
    "spark = SparkSession.builder.getOrCreate()\n",
    "# Load the text file\n",
    "lines = spark.read.text(\"sentence.txt\")\n",
    "# Split the lines into words\n",
    "words = lines.withColumn('word', f.explode(f.split(f.col('value'), ' '))).groupBy('word').count().sort('count', ascending=False).show()\n",
    "# Stop the SparkSession\n",
    "spark.stop()"
   ]
  }
 ],
 "metadata": {
  "kernelspec": {
   "display_name": "Python 3",
   "language": "python",
   "name": "python3"
  },
  "language_info": {
   "codemirror_mode": {
    "name": "ipython",
    "version": 3
   },
   "file_extension": ".py",
   "mimetype": "text/x-python",
   "name": "python",
   "nbconvert_exporter": "python",
   "pygments_lexer": "ipython3",
   "version": "3.7.0"
  }
 },
 "nbformat": 4,
 "nbformat_minor": 2
}
