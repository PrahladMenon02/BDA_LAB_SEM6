{
 "cells": [
  {
   "cell_type": "markdown",
   "metadata": {},
   "source": [
    "# Q1"
   ]
  },
  {
   "cell_type": "code",
   "execution_count": 1,
   "metadata": {
    "scrolled": true
   },
   "outputs": [
    {
     "name": "stderr",
     "output_type": "stream",
     "text": [
      "/home/lplab/anaconda3/lib/python3.7/site-packages/pyspark/context.py:317: FutureWarning: Python 3.7 support is deprecated in Spark 3.4.\n",
      "  warnings.warn(\"Python 3.7 support is deprecated in Spark 3.4.\", FutureWarning)\n"
     ]
    },
    {
     "name": "stdout",
     "output_type": "stream",
     "text": [
      "root\n",
      " |-- user_id: string (nullable = true)\n",
      " |-- product_id: string (nullable = true)\n",
      " |-- score: double (nullable = true)\n",
      "\n",
      "+--------------+----------+-----+\n",
      "|       user_id|product_id|score|\n",
      "+--------------+----------+-----+\n",
      "|A141HP4LYPWMSR|B003AI2VGA|  3.0|\n",
      "|A328S9RN3U5M68|B003AI2VGA|  3.0|\n",
      "|A1I7QGUDP043DG|B003AI2VGA|  5.0|\n",
      "|A1M5405JH9THP9|B003AI2VGA|  3.0|\n",
      "| ATXL536YX71TR|B003AI2VGA|  3.0|\n",
      "|A3QYDL5CDNYN66|B003AI2VGA|  2.0|\n",
      "| AQJVNDW6YZFQS|B003AI2VGA|  1.0|\n",
      "| AD4CDZK7D31XP|B00006HAXW|  5.0|\n",
      "|A3Q4S5DFVPB70D|B00006HAXW|  5.0|\n",
      "|A2P7UB02HAVEPB|B00006HAXW|  5.0|\n",
      "|A2TX99AZKDK0V7|B00006HAXW|  4.0|\n",
      "| AFC8IKR407HSK|B00006HAXW|  5.0|\n",
      "|A1FRPGQYQTAOR1|B00006HAXW|  5.0|\n",
      "|A1RSDE90N6RSZF|B00006HAXW|  5.0|\n",
      "|A1OUBOGB5970AO|B00006HAXW|  4.0|\n",
      "|A3NPHQVIY59Y0Y|B00006HAXW|  5.0|\n",
      "| AFKMBAY28XO8A|B00006HAXW|  5.0|\n",
      "| A66KMXH9V7OGU|B00006HAXW|  5.0|\n",
      "| AFJ27ZV9183B8|B00006HAXW|  5.0|\n",
      "| AXMKAXC0TR9AW|B00006HAXW|  5.0|\n",
      "+--------------+----------+-----+\n",
      "only showing top 20 rows\n",
      "\n"
     ]
    }
   ],
   "source": [
    "from pyspark.sql import SparkSession\n",
    "\n",
    "spark = SparkSession.builder.appName(\"MovieRecommendation\").getOrCreate()\n",
    "ratings = spark.read.json(\"movies.json\").select(\"user_id\", \"product_id\", \"score\")\n",
    "ratings.cache()\n",
    "\n",
    "ratings.printSchema()\n",
    "ratings.show()"
   ]
  },
  {
   "cell_type": "markdown",
   "metadata": {},
   "source": [
    "# Q2"
   ]
  },
  {
   "cell_type": "code",
   "execution_count": 2,
   "metadata": {},
   "outputs": [
    {
     "name": "stdout",
     "output_type": "stream",
     "text": [
      "+--------------+----------+-----+-------------+----------------+-----------+\n",
      "|user_id       |product_id|score|user_id_index|product_id_index|prediction |\n",
      "+--------------+----------+-----+-------------+----------------+-----------+\n",
      "|A1A535W556ROBQ|B000063W82|5.0  |451.0        |6.0             |4.057655   |\n",
      "|AI2G6ZZS0G00Y |B000063W1R|5.0  |5433.0       |37.0            |1.5073457  |\n",
      "|A1TW9ZGRDQQZ2Y|B0001G6PZC|5.0  |133.0        |7.0             |4.8023205  |\n",
      "|A1WMVV2AHMONSO|0790747324|5.0  |2874.0       |63.0            |1.3193603  |\n",
      "|A1BJ4X0Y4SBW40|6303257933|4.0  |1201.0       |83.0            |-1.5725759 |\n",
      "|A1VZLLDNLURGJB|0790747324|5.0  |183.0        |63.0            |1.006139   |\n",
      "|A6PSFGFHI80VV |B0095D5454|3.0  |1030.0       |79.0            |-0.4818865 |\n",
      "|AHIK7BUXFRMT8 |0800103688|4.0  |300.0        |163.0           |1.6777688  |\n",
      "|A2R70OGNRCIPJM|B002OHDRF2|1.0  |3795.0       |21.0            |1.0026231  |\n",
      "|A34TI9P66QGT0N|B000UGBOT0|5.0  |4197.0       |78.0            |-0.11888169|\n",
      "+--------------+----------+-----+-------------+----------------+-----------+\n",
      "only showing top 10 rows\n",
      "\n"
     ]
    }
   ],
   "source": [
    "from pyspark.ml.recommendation import ALS\n",
    "from pyspark.ml.evaluation import RegressionEvaluator\n",
    "from pyspark.ml.feature import StringIndexer\n",
    "from pyspark.ml import Pipeline\n",
    "\n",
    "indexers = [\n",
    "    StringIndexer(inputCol=column, outputCol=column+\"_index\").fit(ratings)\n",
    "    for column in [\"user_id\", \"product_id\"]\n",
    "]\n",
    "\n",
    "pipeline = Pipeline(stages=indexers)\n",
    "ratings_indexed = pipeline.fit(ratings).transform(ratings)\n",
    "\n",
    "training_data,validation_data = ratings_indexed.randomSplit([8.0,2.0])\n",
    "\n",
    "als = ALS(userCol=\"user_id_index\",itemCol=\"product_id_index\",ratingCol=\"score\",rank=10,maxIter=5,regParam=0.01,coldStartStrategy=\"drop\")\n",
    "evaluator = RegressionEvaluator(metricName=\"rmse\",labelCol=\"score\",predictionCol=\"prediction\")\n",
    "\n",
    "model = als.fit(training_data)\n",
    "predictions=model.transform(validation_data)\n",
    "predictions.show(10,False)"
   ]
  },
  {
   "cell_type": "markdown",
   "metadata": {},
   "source": [
    "# Q3"
   ]
  },
  {
   "cell_type": "code",
   "execution_count": 3,
   "metadata": {},
   "outputs": [
    {
     "name": "stdout",
     "output_type": "stream",
     "text": [
      "+----------+--------------+-------------+----------------+\n",
      "|product_id|       user_id|user_id_index|product_id_index|\n",
      "+----------+--------------+-------------+----------------+\n",
      "|B000063W1R|A2NJO6YE954DBH|          1.0|            37.0|\n",
      "|B001QB5SCM|A2NJO6YE954DBH|          1.0|            87.0|\n",
      "|B0000DK4QK|A2NJO6YE954DBH|          1.0|            51.0|\n",
      "|B000KKQNRO|A2NJO6YE954DBH|          1.0|             3.0|\n",
      "|B00004CTUN|A2NJO6YE954DBH|          1.0|           409.0|\n",
      "|B00005Y6Y2|A2NJO6YE954DBH|          1.0|            43.0|\n",
      "|B0006GAI6E|A2NJO6YE954DBH|          1.0|           210.0|\n",
      "|B000ZLFALS|A2NJO6YE954DBH|          1.0|             5.0|\n",
      "|B00005Y6YG|A2NJO6YE954DBH|          1.0|           817.0|\n",
      "|B00005Y6YM|A2NJO6YE954DBH|          1.0|           366.0|\n",
      "+----------+--------------+-------------+----------------+\n",
      "\n",
      "+----------+--------------+-------------+----------------+----------+\n",
      "|product_id|       user_id|user_id_index|product_id_index|prediction|\n",
      "+----------+--------------+-------------+----------------+----------+\n",
      "|B00005Y6YG|A2NJO6YE954DBH|          1.0|           817.0| 11.112223|\n",
      "|B000063W1R|A2NJO6YE954DBH|          1.0|            37.0|  8.186409|\n",
      "|B0006GAI6E|A2NJO6YE954DBH|          1.0|           210.0| 7.8187113|\n",
      "|B00005Y6Y2|A2NJO6YE954DBH|          1.0|            43.0|   4.67352|\n",
      "|B0000DK4QK|A2NJO6YE954DBH|          1.0|            51.0| 4.0055494|\n",
      "|B00005Y6YM|A2NJO6YE954DBH|          1.0|           366.0| 3.8344269|\n",
      "|B000ZLFALS|A2NJO6YE954DBH|          1.0|             5.0| 1.0847266|\n",
      "|B00004CTUN|A2NJO6YE954DBH|          1.0|           409.0|0.59631205|\n",
      "|B000KKQNRO|A2NJO6YE954DBH|          1.0|             3.0|-0.9947925|\n",
      "|B001QB5SCM|A2NJO6YE954DBH|          1.0|            87.0|-1.0228025|\n",
      "+----------+--------------+-------------+----------------+----------+\n",
      "\n"
     ]
    }
   ],
   "source": [
    "user1 = validation_data.filter(validation_data['user_id_index']==1.0).select(['product_id','user_id','user_id_index','product_id_index'])\n",
    "user1.show()\n",
    "recommendations = model.transform(user1) \n",
    "recommendations.orderBy('prediction',ascending=False).show()\n"
   ]
  },
  {
   "cell_type": "markdown",
   "metadata": {},
   "source": [
    "# Q4"
   ]
  },
  {
   "cell_type": "code",
   "execution_count": 4,
   "metadata": {},
   "outputs": [
    {
     "name": "stdout",
     "output_type": "stream",
     "text": [
      "Root Mean Squared Error (RMSE) = 4.635533404969165\n",
      "Mean Absolute Error (MAE) = 3.069216533127574\n"
     ]
    }
   ],
   "source": [
    "rmse = evaluator.evaluate(predictions)\n",
    "print(f\"Root Mean Squared Error (RMSE) = {rmse}\")\n",
    "\n",
    "# Additional Evaluation Metric: Mean Absolute Error (MAE)\n",
    "evaluator_mae = RegressionEvaluator(\n",
    "    metricName=\"mae\",\n",
    "    labelCol=\"score\",\n",
    "    predictionCol=\"prediction\"\n",
    ")\n",
    "\n",
    "mae = evaluator_mae.evaluate(predictions)\n",
    "print(f\"Mean Absolute Error (MAE) = {mae}\")\n"
   ]
  },
  {
   "cell_type": "code",
   "execution_count": null,
   "metadata": {},
   "outputs": [],
   "source": []
  }
 ],
 "metadata": {
  "kernelspec": {
   "display_name": "Python 3",
   "language": "python",
   "name": "python3"
  },
  "language_info": {
   "codemirror_mode": {
    "name": "ipython",
    "version": 3
   },
   "file_extension": ".py",
   "mimetype": "text/x-python",
   "name": "python",
   "nbconvert_exporter": "python",
   "pygments_lexer": "ipython3",
   "version": "3.7.0"
  }
 },
 "nbformat": 4,
 "nbformat_minor": 2
}
